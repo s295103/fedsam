{
  "cells": [
    {
      "attachments": {},
      "cell_type": "markdown",
      "metadata": {
        "id": "MXpuPffgsf0k"
      },
      "source": [
        "#Testing FedAvg on ResNet20\n",
        "This notebook aim to train a ResNet20 in a federated framework, using IID and non-IID data distributions, and to compare the results to the centralized model.\n",
        "\n"
      ]
    },
    {
      "attachments": {},
      "cell_type": "markdown",
      "metadata": {
        "id": "f-3p7GfWsY99"
      },
      "source": [
        "##Clone GitHub repositories"
      ]
    },
    {
      "cell_type": "code",
      "execution_count": null,
      "metadata": {
        "colab": {
          "base_uri": "https://localhost:8080/"
        },
        "id": "5VPj4dM6sP9q",
        "outputId": "fe3cf13e-d78d-493e-d092-a0add215ebc7"
      },
      "outputs": [],
      "source": [
        "import os\n",
        "\n",
        "if not os.path.isdir(\"fedsam\"):\n",
        "  !git clone https://github.com/s295103/fedsam.git\n",
        "else:\n",
        "  %cd fedsam\n",
        "  !git pull origin\n",
        "  %cd ..\n",
        "\n",
        "if not os.path.isdir(\"aml_project\"):\n",
        "  !git clone https://github.com/s295103/aml_project.git\n",
        "else:\n",
        "  %cd aml_project\n",
        "  !git pull origin\n",
        "  %cd .."
      ]
    },
    {
      "attachments": {},
      "cell_type": "markdown",
      "metadata": {
        "id": "sXwpSYsFhQ3K"
      },
      "source": [
        "##Load test accuracy of centralized ResNet20-GN on CIFAR100"
      ]
    },
    {
      "cell_type": "code",
      "execution_count": null,
      "metadata": {
        "colab": {
          "base_uri": "https://localhost:8080/"
        },
        "id": "53-ApFaGhgOv",
        "outputId": "8f711237-7907-4fd7-8997-19370c4a05b1"
      },
      "outputs": [],
      "source": [
        "%cd content/aml_project\n",
        "from utils import load_model\n",
        "path = \"content/aml_project/results/resnet20/resnet20gn_best_model.pth\"\n",
        "data = load_model(path)\n",
        "centralized_test_accuracy = data[\"accuracy\"]\n",
        "print(f\"\\nCentralized Test Accuracy = {100*centralized_test_accuracy:.1f}%\")\n",
        "%cd .."
      ]
    },
    {
      "attachments": {},
      "cell_type": "markdown",
      "metadata": {
        "id": "IEF07i12EiHJ"
      },
      "source": [
        "##Install required libraries\n"
      ]
    },
    {
      "cell_type": "code",
      "execution_count": null,
      "metadata": {
        "colab": {
          "base_uri": "https://localhost:8080/"
        },
        "id": "4T8oH4D2Elf-",
        "outputId": "543ad6f9-e1ff-4cee-fef0-4983fee458ae"
      },
      "outputs": [],
      "source": [
        "%cd /content/fedsam\n",
        "!pip3 install -r requirements.txt"
      ]
    },
    {
      "attachments": {},
      "cell_type": "markdown",
      "metadata": {
        "id": "PxCRZ2jbEnyo"
      },
      "source": [
        "##Download and preprocess CIFAR datasets\n",
        "\n"
      ]
    },
    {
      "cell_type": "code",
      "execution_count": null,
      "metadata": {
        "colab": {
          "base_uri": "https://localhost:8080/"
        },
        "id": "baZWSooREwcM",
        "outputId": "285b5266-ef3e-4813-b7d1-e26b69efd526"
      },
      "outputs": [],
      "source": [
        "%cd data\n",
        "!chmod +x setup_datasets.sh\n",
        "!./setup_datasets.sh"
      ]
    },
    {
      "attachments": {},
      "cell_type": "markdown",
      "metadata": {
        "id": "rERmkOVjutiQ"
      },
      "source": [
        "##Run FedAvg experiment with ResNet20-GN on CIFAR100"
      ]
    },
    {
      "cell_type": "code",
      "execution_count": null,
      "metadata": {
        "colab": {
          "base_uri": "https://localhost:8080/"
        },
        "id": "So-B0uKsu1sd",
        "outputId": "a88f2260-cdb5-4277-fac5-3ddf0f0243ed"
      },
      "outputs": [],
      "source": [
        "%cd ../paper_experiments\n",
        "!chmod +x cifar100.sh\n",
        "!./cifar100.sh"
      ]
    }
  ],
  "metadata": {
    "accelerator": "GPU",
    "colab": {
      "provenance": []
    },
    "gpuClass": "premium",
    "kernelspec": {
      "display_name": "Python 3",
      "name": "python3"
    },
    "language_info": {
      "name": "python"
    }
  },
  "nbformat": 4,
  "nbformat_minor": 0
}
