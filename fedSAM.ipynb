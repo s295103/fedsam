{
  "nbformat": 4,
  "nbformat_minor": 0,
  "metadata": {
    "colab": {
      "provenance": [],
      "authorship_tag": "ABX9TyMvfxs2dmyr7bP+drtSwhxM",
      "include_colab_link": true
    },
    "kernelspec": {
      "name": "python3",
      "display_name": "Python 3"
    },
    "language_info": {
      "name": "python"
    },
    "accelerator": "GPU",
    "gpuClass": "standard"
  },
  "cells": [
    {
      "cell_type": "markdown",
      "metadata": {
        "id": "view-in-github",
        "colab_type": "text"
      },
      "source": [
        "<a href=\"https://colab.research.google.com/github/s295103/fedsam/blob/master/fedSAM.ipynb\" target=\"_parent\"><img src=\"https://colab.research.google.com/assets/colab-badge.svg\" alt=\"Open In Colab\"/></a>"
      ]
    },
    {
      "cell_type": "markdown",
      "source": [
        "#FedSAM experiment\n",
        "\n"
      ],
      "metadata": {
        "id": "MXpuPffgsf0k"
      }
    },
    {
      "cell_type": "markdown",
      "source": [
        "##Clone GitHub repository"
      ],
      "metadata": {
        "id": "f-3p7GfWsY99"
      }
    },
    {
      "cell_type": "code",
      "execution_count": 1,
      "metadata": {
        "colab": {
          "base_uri": "https://localhost:8080/"
        },
        "id": "5VPj4dM6sP9q",
        "outputId": "00cb12c0-9493-40d4-9a53-ab44f6aee042"
      },
      "outputs": [
        {
          "output_type": "stream",
          "name": "stdout",
          "text": [
            "Cloning into 'fedsam'...\n",
            "remote: Enumerating objects: 116, done.\u001b[K\n",
            "remote: Counting objects: 100% (72/72), done.\u001b[K\n",
            "remote: Compressing objects: 100% (47/47), done.\u001b[K\n",
            "remote: Total 116 (delta 36), reused 37 (delta 23), pack-reused 44\u001b[K\n",
            "Receiving objects: 100% (116/116), 8.37 MiB | 28.00 MiB/s, done.\n",
            "Resolving deltas: 100% (46/46), done.\n"
          ]
        }
      ],
      "source": [
        "!git clone https://github.com/s295103/fedsam.git\n"
      ]
    },
    {
      "cell_type": "markdown",
      "source": [
        "##Install required libraries\n"
      ],
      "metadata": {
        "id": "IEF07i12EiHJ"
      }
    },
    {
      "cell_type": "code",
      "source": [
        "%cd fedsam\n",
        "!pip3 install -r requirements.txt"
      ],
      "metadata": {
        "colab": {
          "base_uri": "https://localhost:8080/"
        },
        "id": "4T8oH4D2Elf-",
        "outputId": "93c6f8d9-b0cc-40ac-b61d-70d1d927b5de"
      },
      "execution_count": 2,
      "outputs": [
        {
          "output_type": "stream",
          "name": "stdout",
          "text": [
            "/content/fedsam\n",
            "Looking in indexes: https://pypi.org/simple, https://us-python.pkg.dev/colab-wheels/public/simple/\n",
            "Requirement already satisfied: torch>=1.9.0 in /usr/local/lib/python3.9/dist-packages (from -r requirements.txt (line 1)) (2.0.0+cu118)\n",
            "Requirement already satisfied: matplotlib>=3.3.4 in /usr/local/lib/python3.9/dist-packages (from -r requirements.txt (line 2)) (3.7.1)\n",
            "Requirement already satisfied: pandas>=1.2.5 in /usr/local/lib/python3.9/dist-packages (from -r requirements.txt (line 3)) (1.4.4)\n",
            "Requirement already satisfied: scipy>=1.7.1 in /usr/local/lib/python3.9/dist-packages (from -r requirements.txt (line 4)) (1.10.1)\n",
            "Requirement already satisfied: torchvision>=0.10.0 in /usr/local/lib/python3.9/dist-packages (from -r requirements.txt (line 5)) (0.15.1+cu118)\n",
            "Requirement already satisfied: numpy>=1.21.2 in /usr/local/lib/python3.9/dist-packages (from -r requirements.txt (line 6)) (1.22.4)\n",
            "Requirement already satisfied: seaborn>=0.11.1 in /usr/local/lib/python3.9/dist-packages (from -r requirements.txt (line 7)) (0.12.2)\n",
            "Requirement already satisfied: imageio>=2.9.0 in /usr/local/lib/python3.9/dist-packages (from -r requirements.txt (line 8)) (2.25.1)\n",
            "Requirement already satisfied: natsort>=7.1.1 in /usr/local/lib/python3.9/dist-packages (from -r requirements.txt (line 9)) (8.3.1)\n",
            "Requirement already satisfied: Pillow>=8.4.0 in /usr/local/lib/python3.9/dist-packages (from -r requirements.txt (line 10)) (8.4.0)\n",
            "Requirement already satisfied: tensorflow>=2.6.0 in /usr/local/lib/python3.9/dist-packages (from -r requirements.txt (line 11)) (2.12.0)\n",
            "Requirement already satisfied: tqdm>=4.62.3 in /usr/local/lib/python3.9/dist-packages (from -r requirements.txt (line 12)) (4.65.0)\n",
            "Collecting wandb>=0.14.0\n",
            "  Downloading wandb-0.14.0-py3-none-any.whl (2.0 MB)\n",
            "\u001b[2K     \u001b[90m━━━━━━━━━━━━━━━━━━━━━━━━━━━━━━━━━━━━━━━━\u001b[0m \u001b[32m2.0/2.0 MB\u001b[0m \u001b[31m24.1 MB/s\u001b[0m eta \u001b[36m0:00:00\u001b[0m\n",
            "\u001b[?25hRequirement already satisfied: networkx in /usr/local/lib/python3.9/dist-packages (from torch>=1.9.0->-r requirements.txt (line 1)) (3.0)\n",
            "Requirement already satisfied: sympy in /usr/local/lib/python3.9/dist-packages (from torch>=1.9.0->-r requirements.txt (line 1)) (1.11.1)\n",
            "Requirement already satisfied: filelock in /usr/local/lib/python3.9/dist-packages (from torch>=1.9.0->-r requirements.txt (line 1)) (3.10.7)\n",
            "Requirement already satisfied: jinja2 in /usr/local/lib/python3.9/dist-packages (from torch>=1.9.0->-r requirements.txt (line 1)) (3.1.2)\n",
            "Requirement already satisfied: typing-extensions in /usr/local/lib/python3.9/dist-packages (from torch>=1.9.0->-r requirements.txt (line 1)) (4.5.0)\n",
            "Requirement already satisfied: triton==2.0.0 in /usr/local/lib/python3.9/dist-packages (from torch>=1.9.0->-r requirements.txt (line 1)) (2.0.0)\n",
            "Requirement already satisfied: cmake in /usr/local/lib/python3.9/dist-packages (from triton==2.0.0->torch>=1.9.0->-r requirements.txt (line 1)) (3.25.2)\n",
            "Requirement already satisfied: lit in /usr/local/lib/python3.9/dist-packages (from triton==2.0.0->torch>=1.9.0->-r requirements.txt (line 1)) (16.0.0)\n",
            "Requirement already satisfied: python-dateutil>=2.7 in /usr/local/lib/python3.9/dist-packages (from matplotlib>=3.3.4->-r requirements.txt (line 2)) (2.8.2)\n",
            "Requirement already satisfied: contourpy>=1.0.1 in /usr/local/lib/python3.9/dist-packages (from matplotlib>=3.3.4->-r requirements.txt (line 2)) (1.0.7)\n",
            "Requirement already satisfied: pyparsing>=2.3.1 in /usr/local/lib/python3.9/dist-packages (from matplotlib>=3.3.4->-r requirements.txt (line 2)) (3.0.9)\n",
            "Requirement already satisfied: kiwisolver>=1.0.1 in /usr/local/lib/python3.9/dist-packages (from matplotlib>=3.3.4->-r requirements.txt (line 2)) (1.4.4)\n",
            "Requirement already satisfied: fonttools>=4.22.0 in /usr/local/lib/python3.9/dist-packages (from matplotlib>=3.3.4->-r requirements.txt (line 2)) (4.39.3)\n",
            "Requirement already satisfied: cycler>=0.10 in /usr/local/lib/python3.9/dist-packages (from matplotlib>=3.3.4->-r requirements.txt (line 2)) (0.11.0)\n",
            "Requirement already satisfied: packaging>=20.0 in /usr/local/lib/python3.9/dist-packages (from matplotlib>=3.3.4->-r requirements.txt (line 2)) (23.0)\n",
            "Requirement already satisfied: importlib-resources>=3.2.0 in /usr/local/lib/python3.9/dist-packages (from matplotlib>=3.3.4->-r requirements.txt (line 2)) (5.12.0)\n",
            "Requirement already satisfied: pytz>=2020.1 in /usr/local/lib/python3.9/dist-packages (from pandas>=1.2.5->-r requirements.txt (line 3)) (2022.7.1)\n",
            "Requirement already satisfied: requests in /usr/local/lib/python3.9/dist-packages (from torchvision>=0.10.0->-r requirements.txt (line 5)) (2.27.1)\n",
            "Requirement already satisfied: protobuf!=4.21.0,!=4.21.1,!=4.21.2,!=4.21.3,!=4.21.4,!=4.21.5,<5.0.0dev,>=3.20.3 in /usr/local/lib/python3.9/dist-packages (from tensorflow>=2.6.0->-r requirements.txt (line 11)) (3.20.3)\n",
            "Requirement already satisfied: six>=1.12.0 in /usr/local/lib/python3.9/dist-packages (from tensorflow>=2.6.0->-r requirements.txt (line 11)) (1.16.0)\n",
            "Requirement already satisfied: termcolor>=1.1.0 in /usr/local/lib/python3.9/dist-packages (from tensorflow>=2.6.0->-r requirements.txt (line 11)) (2.2.0)\n",
            "Requirement already satisfied: gast<=0.4.0,>=0.2.1 in /usr/local/lib/python3.9/dist-packages (from tensorflow>=2.6.0->-r requirements.txt (line 11)) (0.4.0)\n",
            "Requirement already satisfied: wrapt<1.15,>=1.11.0 in /usr/local/lib/python3.9/dist-packages (from tensorflow>=2.6.0->-r requirements.txt (line 11)) (1.14.1)\n",
            "Requirement already satisfied: absl-py>=1.0.0 in /usr/local/lib/python3.9/dist-packages (from tensorflow>=2.6.0->-r requirements.txt (line 11)) (1.4.0)\n",
            "Requirement already satisfied: tensorflow-estimator<2.13,>=2.12.0 in /usr/local/lib/python3.9/dist-packages (from tensorflow>=2.6.0->-r requirements.txt (line 11)) (2.12.0)\n",
            "Requirement already satisfied: keras<2.13,>=2.12.0 in /usr/local/lib/python3.9/dist-packages (from tensorflow>=2.6.0->-r requirements.txt (line 11)) (2.12.0)\n",
            "Requirement already satisfied: flatbuffers>=2.0 in /usr/local/lib/python3.9/dist-packages (from tensorflow>=2.6.0->-r requirements.txt (line 11)) (23.3.3)\n",
            "Requirement already satisfied: grpcio<2.0,>=1.24.3 in /usr/local/lib/python3.9/dist-packages (from tensorflow>=2.6.0->-r requirements.txt (line 11)) (1.53.0)\n",
            "Requirement already satisfied: tensorflow-io-gcs-filesystem>=0.23.1 in /usr/local/lib/python3.9/dist-packages (from tensorflow>=2.6.0->-r requirements.txt (line 11)) (0.32.0)\n",
            "Requirement already satisfied: h5py>=2.9.0 in /usr/local/lib/python3.9/dist-packages (from tensorflow>=2.6.0->-r requirements.txt (line 11)) (3.8.0)\n",
            "Requirement already satisfied: setuptools in /usr/local/lib/python3.9/dist-packages (from tensorflow>=2.6.0->-r requirements.txt (line 11)) (67.6.1)\n",
            "Requirement already satisfied: opt-einsum>=2.3.2 in /usr/local/lib/python3.9/dist-packages (from tensorflow>=2.6.0->-r requirements.txt (line 11)) (3.3.0)\n",
            "Requirement already satisfied: google-pasta>=0.1.1 in /usr/local/lib/python3.9/dist-packages (from tensorflow>=2.6.0->-r requirements.txt (line 11)) (0.2.0)\n",
            "Requirement already satisfied: jax>=0.3.15 in /usr/local/lib/python3.9/dist-packages (from tensorflow>=2.6.0->-r requirements.txt (line 11)) (0.4.7)\n",
            "Requirement already satisfied: libclang>=13.0.0 in /usr/local/lib/python3.9/dist-packages (from tensorflow>=2.6.0->-r requirements.txt (line 11)) (16.0.0)\n",
            "Requirement already satisfied: astunparse>=1.6.0 in /usr/local/lib/python3.9/dist-packages (from tensorflow>=2.6.0->-r requirements.txt (line 11)) (1.6.3)\n",
            "Requirement already satisfied: tensorboard<2.13,>=2.12 in /usr/local/lib/python3.9/dist-packages (from tensorflow>=2.6.0->-r requirements.txt (line 11)) (2.12.0)\n",
            "Requirement already satisfied: Click!=8.0.0,>=7.0 in /usr/local/lib/python3.9/dist-packages (from wandb>=0.14.0->-r requirements.txt (line 13)) (8.1.3)\n",
            "Requirement already satisfied: appdirs>=1.4.3 in /usr/local/lib/python3.9/dist-packages (from wandb>=0.14.0->-r requirements.txt (line 13)) (1.4.4)\n",
            "Collecting docker-pycreds>=0.4.0\n",
            "  Downloading docker_pycreds-0.4.0-py2.py3-none-any.whl (9.0 kB)\n",
            "Collecting setproctitle\n",
            "  Downloading setproctitle-1.3.2-cp39-cp39-manylinux_2_5_x86_64.manylinux1_x86_64.manylinux_2_17_x86_64.manylinux2014_x86_64.whl (30 kB)\n",
            "Requirement already satisfied: PyYAML in /usr/local/lib/python3.9/dist-packages (from wandb>=0.14.0->-r requirements.txt (line 13)) (6.0)\n",
            "Requirement already satisfied: psutil>=5.0.0 in /usr/local/lib/python3.9/dist-packages (from wandb>=0.14.0->-r requirements.txt (line 13)) (5.9.4)\n",
            "Collecting sentry-sdk>=1.0.0\n",
            "  Downloading sentry_sdk-1.19.0-py2.py3-none-any.whl (199 kB)\n",
            "\u001b[2K     \u001b[90m━━━━━━━━━━━━━━━━━━━━━━━━━━━━━━━━━━━━━━━\u001b[0m \u001b[32m199.2/199.2 KB\u001b[0m \u001b[31m9.1 MB/s\u001b[0m eta \u001b[36m0:00:00\u001b[0m\n",
            "\u001b[?25hCollecting pathtools\n",
            "  Downloading pathtools-0.1.2.tar.gz (11 kB)\n",
            "  Preparing metadata (setup.py) ... \u001b[?25l\u001b[?25hdone\n",
            "Collecting GitPython!=3.1.29,>=1.0.0\n",
            "  Downloading GitPython-3.1.31-py3-none-any.whl (184 kB)\n",
            "\u001b[2K     \u001b[90m━━━━━━━━━━━━━━━━━━━━━━━━━━━━━━━━━━━━━━━\u001b[0m \u001b[32m184.3/184.3 KB\u001b[0m \u001b[31m1.7 MB/s\u001b[0m eta \u001b[36m0:00:00\u001b[0m\n",
            "\u001b[?25hRequirement already satisfied: wheel<1.0,>=0.23.0 in /usr/local/lib/python3.9/dist-packages (from astunparse>=1.6.0->tensorflow>=2.6.0->-r requirements.txt (line 11)) (0.40.0)\n",
            "Collecting gitdb<5,>=4.0.1\n",
            "  Downloading gitdb-4.0.10-py3-none-any.whl (62 kB)\n",
            "\u001b[2K     \u001b[90m━━━━━━━━━━━━━━━━━━━━━━━━━━━━━━━━━━━━━━━━\u001b[0m \u001b[32m62.7/62.7 KB\u001b[0m \u001b[31m4.2 MB/s\u001b[0m eta \u001b[36m0:00:00\u001b[0m\n",
            "\u001b[?25hRequirement already satisfied: zipp>=3.1.0 in /usr/local/lib/python3.9/dist-packages (from importlib-resources>=3.2.0->matplotlib>=3.3.4->-r requirements.txt (line 2)) (3.15.0)\n",
            "Requirement already satisfied: ml-dtypes>=0.0.3 in /usr/local/lib/python3.9/dist-packages (from jax>=0.3.15->tensorflow>=2.6.0->-r requirements.txt (line 11)) (0.0.4)\n",
            "Requirement already satisfied: idna<4,>=2.5 in /usr/local/lib/python3.9/dist-packages (from requests->torchvision>=0.10.0->-r requirements.txt (line 5)) (3.4)\n",
            "Requirement already satisfied: charset-normalizer~=2.0.0 in /usr/local/lib/python3.9/dist-packages (from requests->torchvision>=0.10.0->-r requirements.txt (line 5)) (2.0.12)\n",
            "Requirement already satisfied: certifi>=2017.4.17 in /usr/local/lib/python3.9/dist-packages (from requests->torchvision>=0.10.0->-r requirements.txt (line 5)) (2022.12.7)\n",
            "Requirement already satisfied: urllib3<1.27,>=1.21.1 in /usr/local/lib/python3.9/dist-packages (from requests->torchvision>=0.10.0->-r requirements.txt (line 5)) (1.26.15)\n",
            "Requirement already satisfied: markdown>=2.6.8 in /usr/local/lib/python3.9/dist-packages (from tensorboard<2.13,>=2.12->tensorflow>=2.6.0->-r requirements.txt (line 11)) (3.4.3)\n",
            "Requirement already satisfied: werkzeug>=1.0.1 in /usr/local/lib/python3.9/dist-packages (from tensorboard<2.13,>=2.12->tensorflow>=2.6.0->-r requirements.txt (line 11)) (2.2.3)\n",
            "Requirement already satisfied: tensorboard-plugin-wit>=1.6.0 in /usr/local/lib/python3.9/dist-packages (from tensorboard<2.13,>=2.12->tensorflow>=2.6.0->-r requirements.txt (line 11)) (1.8.1)\n",
            "Requirement already satisfied: google-auth<3,>=1.6.3 in /usr/local/lib/python3.9/dist-packages (from tensorboard<2.13,>=2.12->tensorflow>=2.6.0->-r requirements.txt (line 11)) (2.17.1)\n",
            "Requirement already satisfied: tensorboard-data-server<0.8.0,>=0.7.0 in /usr/local/lib/python3.9/dist-packages (from tensorboard<2.13,>=2.12->tensorflow>=2.6.0->-r requirements.txt (line 11)) (0.7.0)\n",
            "Requirement already satisfied: google-auth-oauthlib<0.5,>=0.4.1 in /usr/local/lib/python3.9/dist-packages (from tensorboard<2.13,>=2.12->tensorflow>=2.6.0->-r requirements.txt (line 11)) (0.4.6)\n",
            "Requirement already satisfied: MarkupSafe>=2.0 in /usr/local/lib/python3.9/dist-packages (from jinja2->torch>=1.9.0->-r requirements.txt (line 1)) (2.1.2)\n",
            "Requirement already satisfied: mpmath>=0.19 in /usr/local/lib/python3.9/dist-packages (from sympy->torch>=1.9.0->-r requirements.txt (line 1)) (1.3.0)\n",
            "Collecting smmap<6,>=3.0.1\n",
            "  Downloading smmap-5.0.0-py3-none-any.whl (24 kB)\n",
            "Requirement already satisfied: cachetools<6.0,>=2.0.0 in /usr/local/lib/python3.9/dist-packages (from google-auth<3,>=1.6.3->tensorboard<2.13,>=2.12->tensorflow>=2.6.0->-r requirements.txt (line 11)) (5.3.0)\n",
            "Requirement already satisfied: pyasn1-modules>=0.2.1 in /usr/local/lib/python3.9/dist-packages (from google-auth<3,>=1.6.3->tensorboard<2.13,>=2.12->tensorflow>=2.6.0->-r requirements.txt (line 11)) (0.2.8)\n",
            "Requirement already satisfied: rsa<5,>=3.1.4 in /usr/local/lib/python3.9/dist-packages (from google-auth<3,>=1.6.3->tensorboard<2.13,>=2.12->tensorflow>=2.6.0->-r requirements.txt (line 11)) (4.9)\n",
            "Requirement already satisfied: requests-oauthlib>=0.7.0 in /usr/local/lib/python3.9/dist-packages (from google-auth-oauthlib<0.5,>=0.4.1->tensorboard<2.13,>=2.12->tensorflow>=2.6.0->-r requirements.txt (line 11)) (1.3.1)\n",
            "Requirement already satisfied: importlib-metadata>=4.4 in /usr/local/lib/python3.9/dist-packages (from markdown>=2.6.8->tensorboard<2.13,>=2.12->tensorflow>=2.6.0->-r requirements.txt (line 11)) (6.1.0)\n",
            "Requirement already satisfied: pyasn1<0.5.0,>=0.4.6 in /usr/local/lib/python3.9/dist-packages (from pyasn1-modules>=0.2.1->google-auth<3,>=1.6.3->tensorboard<2.13,>=2.12->tensorflow>=2.6.0->-r requirements.txt (line 11)) (0.4.8)\n",
            "Requirement already satisfied: oauthlib>=3.0.0 in /usr/local/lib/python3.9/dist-packages (from requests-oauthlib>=0.7.0->google-auth-oauthlib<0.5,>=0.4.1->tensorboard<2.13,>=2.12->tensorflow>=2.6.0->-r requirements.txt (line 11)) (3.2.2)\n",
            "Building wheels for collected packages: pathtools\n",
            "  Building wheel for pathtools (setup.py) ... \u001b[?25l\u001b[?25hdone\n",
            "  Created wheel for pathtools: filename=pathtools-0.1.2-py3-none-any.whl size=8807 sha256=1cf8eb8df77499680967f255ed742c409e5dd28c8daaf8b4999b8126a804ca3c\n",
            "  Stored in directory: /root/.cache/pip/wheels/b7/0a/67/ada2a22079218c75a88361c0782855cc72aebc4d18d0289d05\n",
            "Successfully built pathtools\n",
            "Installing collected packages: pathtools, smmap, setproctitle, sentry-sdk, docker-pycreds, gitdb, GitPython, wandb\n",
            "Successfully installed GitPython-3.1.31 docker-pycreds-0.4.0 gitdb-4.0.10 pathtools-0.1.2 sentry-sdk-1.19.0 setproctitle-1.3.2 smmap-5.0.0 wandb-0.14.0\n"
          ]
        }
      ]
    },
    {
      "cell_type": "markdown",
      "source": [
        "##Download and preprocess dataset CIFAR10 and CIFAR100\n",
        "\n"
      ],
      "metadata": {
        "id": "PxCRZ2jbEnyo"
      }
    },
    {
      "cell_type": "code",
      "source": [
        "%cd data\n",
        "!chmod +x setup_datasets.sh\n",
        "!./setup_datasets.sh"
      ],
      "metadata": {
        "colab": {
          "base_uri": "https://localhost:8080/"
        },
        "id": "baZWSooREwcM",
        "outputId": "56c5e7e2-4622-4d89-9acc-96d685be0872"
      },
      "execution_count": 3,
      "outputs": [
        {
          "output_type": "stream",
          "name": "stdout",
          "text": [
            "/content/fedsam/data\n",
            "Downloading CIFAR10...\n",
            "--2023-04-05 13:10:13--  https://www.cs.toronto.edu/~kriz/cifar-10-python.tar.gz\n",
            "Resolving www.cs.toronto.edu (www.cs.toronto.edu)... 128.100.3.30\n",
            "Connecting to www.cs.toronto.edu (www.cs.toronto.edu)|128.100.3.30|:443... connected.\n",
            "HTTP request sent, awaiting response... 200 OK\n",
            "Length: 170498071 (163M) [application/x-gzip]\n",
            "Saving to: ‘cifar-10-python.tar.gz’\n",
            "\n",
            "cifar-10-python.tar 100%[===================>] 162.60M  76.6MB/s    in 2.1s    \n",
            "\n",
            "2023-04-05 13:10:15 (76.6 MB/s) - ‘cifar-10-python.tar.gz’ saved [170498071/170498071]\n",
            "\n",
            "cifar-10-batches-py/\n",
            "cifar-10-batches-py/data_batch_4\n",
            "cifar-10-batches-py/readme.html\n",
            "cifar-10-batches-py/test_batch\n",
            "cifar-10-batches-py/data_batch_3\n",
            "cifar-10-batches-py/batches.meta\n",
            "cifar-10-batches-py/data_batch_2\n",
            "cifar-10-batches-py/data_batch_5\n",
            "cifar-10-batches-py/data_batch_1\n",
            "Extracting images for pickle files...\n",
            "#### Setting up CIFAR10 ####\n",
            "Label names: ['airplane', 'automobile', 'bird', 'cat', 'deer', 'dog', 'frog', 'horse', 'ship', 'truck']\n",
            "Batch  1\n",
            "Batch  2\n",
            "Batch  3\n",
            "Batch  4\n",
            "Batch  5\n",
            "Saving train images...\n",
            "50000it [00:28, 1724.38it/s]\n",
            "Saving test images...\n",
            "10000it [00:05, 1818.82it/s]\n",
            "Downloading CIFAR100...\n",
            "--2023-04-05 13:10:56--  https://www.cs.toronto.edu/~kriz/cifar-100-python.tar.gz\n",
            "Resolving www.cs.toronto.edu (www.cs.toronto.edu)... 128.100.3.30\n",
            "Connecting to www.cs.toronto.edu (www.cs.toronto.edu)|128.100.3.30|:443... connected.\n",
            "HTTP request sent, awaiting response... 200 OK\n",
            "Length: 169001437 (161M) [application/x-gzip]\n",
            "Saving to: ‘cifar-100-python.tar.gz’\n",
            "\n",
            "cifar-100-python.ta 100%[===================>] 161.17M  45.9MB/s    in 3.9s    \n",
            "\n",
            "2023-04-05 13:11:01 (41.6 MB/s) - ‘cifar-100-python.tar.gz’ saved [169001437/169001437]\n",
            "\n",
            "cifar-100-python/\n",
            "cifar-100-python/file.txt~\n",
            "cifar-100-python/train\n",
            "cifar-100-python/test\n",
            "cifar-100-python/meta\n",
            "Extracting images for pickle files...\n",
            "#### Setting up CIFAR100 ####\n",
            "Saving train images...\n",
            "50000it [00:28, 1755.36it/s]\n",
            "Saving test images...\n",
            "10000it [00:05, 1679.56it/s]\n"
          ]
        }
      ]
    },
    {
      "cell_type": "markdown",
      "source": [
        "##Run experiment with ResNet20-GN"
      ],
      "metadata": {
        "id": "rERmkOVjutiQ"
      }
    },
    {
      "cell_type": "code",
      "source": [
        "%cd ../paper_experiments\n",
        "!chmod +x cifar10.sh\n",
        "!./cifar10.sh"
      ],
      "metadata": {
        "colab": {
          "base_uri": "https://localhost:8080/"
        },
        "id": "So-B0uKsu1sd",
        "outputId": "58d8d39e-cbca-47a3-f0c7-653f02f9eb6d"
      },
      "execution_count": 4,
      "outputs": [
        {
          "output_type": "stream",
          "name": "stdout",
          "text": [
            "/content/fedsam/paper_experiments\n",
            "/content/fedsam/models /content/fedsam/paper_experiments\n",
            "####################### EXPERIMENTS ON CIFAR10 #######################\n",
            "Alpha 1000\n",
            "############################################## Running FedAvg ##############################################\n",
            "Alpha: alpha_1000.00\n",
            "Using device: Tesla T4\n",
            "\u001b[34m\u001b[1mwandb\u001b[0m: Currently logged in as: \u001b[33mrickymusu\u001b[0m. Use \u001b[1m`wandb login --relogin`\u001b[0m to force relogin\n",
            "\u001b[34m\u001b[1mwandb\u001b[0m: Tracking run with wandb version 0.14.0\n",
            "\u001b[34m\u001b[1mwandb\u001b[0m: Run data is saved locally in \u001b[35m\u001b[1m/content/fedsam/models/wandb/run-20230405_131146-cgfj9ejq\u001b[0m\n",
            "\u001b[34m\u001b[1mwandb\u001b[0m: Run \u001b[1m`wandb offline`\u001b[0m to turn off syncing.\n",
            "\u001b[34m\u001b[1mwandb\u001b[0m: Syncing run \u001b[33mnagus-phage-9\u001b[0m\n",
            "\u001b[34m\u001b[1mwandb\u001b[0m: ⭐️ View project at \u001b[34m\u001b[4mhttps://wandb.ai/rickymusu/fl_cifar10\u001b[0m\n",
            "\u001b[34m\u001b[1mwandb\u001b[0m: 🚀 View run at \u001b[34m\u001b[4mhttps://wandb.ai/rickymusu/fl_cifar10/runs/cgfj9ejq\u001b[0m\n",
            "\u001b[34m\u001b[1mwandb\u001b[0m: \u001b[33mWARNING\u001b[0m Calling wandb.run.save without any arguments is deprecated.Changes to attributes are automatically persisted.\n",
            "############################## cifar10.resnet20gn ##############################\n",
            "Running experiment with server servers.fedopt_server and client clients.client\n",
            "Verify client and server: <class 'clients.client.Client'> <class 'servers.fedopt_server.FedOptServer'>\n",
            "Server optimizer: sgd with lr 1.0 and momentum 0\n",
            "Start round: 0\n",
            "/usr/local/lib/python3.9/dist-packages/torch/utils/data/dataloader.py:561: UserWarning: This DataLoader will create 4 worker processes in total. Our suggested max number of worker in current system is 2, which is smaller than what this DataLoader is going to create. Please be aware that excessive worker creation might get DataLoader running slow or even freeze, lower the worker number to avoid potential slowness/freeze if necessary.\n",
            "  warnings.warn(_create_warning_msg(\n",
            "Clients in Total: 0 training clients and 1 test clients\n",
            "--- Random Initialization ---\n",
            "test_accuracy: 10.001, 10th percentile: 10.001, 50th percentile: 10.001, 90th percentile 10.001\n",
            "test_loss: 2.91145, 10th percentile: 2.91145, 50th percentile: 2.91145, 90th percentile 2.91145\n",
            "Traceback (most recent call last):\n",
            "  File \"/content/fedsam/models/main.py\", line 381, in <module>\n",
            "    main()\n",
            "  File \"/content/fedsam/models/main.py\", line 133, in main\n",
            "    print_stats(start_round, server, train_clients, train_client_num_samples, test_clients, test_client_num_samples,\n",
            "  File \"/content/fedsam/models/main.py\", line 344, in print_stats\n",
            "    wandb.log({'Validation accuracy': val_metrics[0], 'Validation loss': val_metrics[1],\n",
            "IndexError: list index out of range\n",
            "\u001b[34m\u001b[1mwandb\u001b[0m: Waiting for W&B process to finish... \u001b[31m(failed 1).\u001b[0m Press Control-C to abort syncing.\n",
            "\u001b[34m\u001b[1mwandb\u001b[0m: 🚀 View run \u001b[33mnagus-phage-9\u001b[0m at: \u001b[34m\u001b[4mhttps://wandb.ai/rickymusu/fl_cifar10/runs/cgfj9ejq\u001b[0m\n",
            "\u001b[34m\u001b[1mwandb\u001b[0m: Synced 5 W&B file(s), 0 media file(s), 2 artifact file(s) and 0 other file(s)\n",
            "\u001b[34m\u001b[1mwandb\u001b[0m: Find logs at: \u001b[35m\u001b[1m./wandb/run-20230405_131146-cgfj9ejq/logs\u001b[0m\n",
            "Done\n",
            "Alpha 0\n",
            "############################################## Running FedAvg ##############################################\n",
            "Alpha: alpha_0.00\n",
            "Using device: Tesla T4\n",
            "\u001b[34m\u001b[1mwandb\u001b[0m: Currently logged in as: \u001b[33mrickymusu\u001b[0m. Use \u001b[1m`wandb login --relogin`\u001b[0m to force relogin\n",
            "\u001b[34m\u001b[1mwandb\u001b[0m: Tracking run with wandb version 0.14.0\n",
            "\u001b[34m\u001b[1mwandb\u001b[0m: Run data is saved locally in \u001b[35m\u001b[1m/content/fedsam/models/wandb/run-20230405_131210-n5peliln\u001b[0m\n",
            "\u001b[34m\u001b[1mwandb\u001b[0m: Run \u001b[1m`wandb offline`\u001b[0m to turn off syncing.\n",
            "\u001b[34m\u001b[1mwandb\u001b[0m: Syncing run \u001b[33mcaptain-blood-wine-10\u001b[0m\n",
            "\u001b[34m\u001b[1mwandb\u001b[0m: ⭐️ View project at \u001b[34m\u001b[4mhttps://wandb.ai/rickymusu/fl_cifar10\u001b[0m\n",
            "\u001b[34m\u001b[1mwandb\u001b[0m: 🚀 View run at \u001b[34m\u001b[4mhttps://wandb.ai/rickymusu/fl_cifar10/runs/n5peliln\u001b[0m\n",
            "\u001b[34m\u001b[1mwandb\u001b[0m: \u001b[33mWARNING\u001b[0m Calling wandb.run.save without any arguments is deprecated.Changes to attributes are automatically persisted.\n",
            "############################## cifar10.resnet20gn ##############################\n",
            "Running experiment with server servers.fedopt_server and client clients.client\n",
            "Verify client and server: <class 'clients.client.Client'> <class 'servers.fedopt_server.FedOptServer'>\n",
            "Server optimizer: sgd with lr 1.0 and momentum 0\n",
            "Start round: 0\n",
            "/usr/local/lib/python3.9/dist-packages/torch/utils/data/dataloader.py:561: UserWarning: This DataLoader will create 4 worker processes in total. Our suggested max number of worker in current system is 2, which is smaller than what this DataLoader is going to create. Please be aware that excessive worker creation might get DataLoader running slow or even freeze, lower the worker number to avoid potential slowness/freeze if necessary.\n",
            "  warnings.warn(_create_warning_msg(\n",
            "Clients in Total: 100 training clients and 1 test clients\n",
            "--- Random Initialization ---\n",
            "train_accuracy: 10.0002, 10th percentile: 0, 50th percentile: 0, 90th percentile 10\n",
            "train_loss: 2.93737, 10th percentile: 1.38996, 50th percentile: 3.08965, 90th percentile 3.83389\n",
            "test_accuracy: 10.001, 10th percentile: 10.001, 50th percentile: 10.001, 90th percentile 10.001\n",
            "test_loss: 2.91145, 10th percentile: 2.91145, 50th percentile: 2.91145, 90th percentile 2.91145\n",
            "--- Round 1 of 10000: Training 5 Clients ---\n",
            "Selected clients: ['32', '87', '10', '59', '77']\n",
            "Traceback (most recent call last):\n",
            "  File \"/content/fedsam/models/main.py\", line 381, in <module>\n",
            "    main()\n",
            "  File \"/content/fedsam/models/main.py\", line 170, in main\n",
            "    sys_metrics = server.train_model(num_epochs=args.num_epochs, batch_size=args.batch_size,\n",
            "  File \"/content/fedsam/models/servers/fedopt_server.py\", line 21, in train_model\n",
            "    sys_metrics = super(FedOptServer, self).train_model(num_epochs, batch_size, minibatch, clients, analysis)\n",
            "  File \"/content/fedsam/models/servers/fedavg_server.py\", line 78, in train_model\n",
            "    sys_metrics = self._update_sys_metrics(c, sys_metrics)\n",
            "  File \"/content/fedsam/models/servers/fedavg_server.py\", line 88, in _update_sys_metrics\n",
            "    sys_metrics[c.id][BYTES_READ_KEY] += c.model.size\n",
            "  File \"/usr/local/lib/python3.9/dist-packages/torch/nn/modules/module.py\", line 1614, in __getattr__\n",
            "    raise AttributeError(\"'{}' object has no attribute '{}'\".format(\n",
            "AttributeError: 'ClientModel' object has no attribute 'size'\n",
            "\u001b[34m\u001b[1mwandb\u001b[0m: Waiting for W&B process to finish... \u001b[31m(failed 1).\u001b[0m Press Control-C to abort syncing.\n",
            "\u001b[34m\u001b[1mwandb\u001b[0m: \n",
            "\u001b[34m\u001b[1mwandb\u001b[0m: Run history:\n",
            "\u001b[34m\u001b[1mwandb\u001b[0m:       Test accuracy ▁\n",
            "\u001b[34m\u001b[1mwandb\u001b[0m:           Test loss ▁\n",
            "\u001b[34m\u001b[1mwandb\u001b[0m: Validation accuracy ▁\n",
            "\u001b[34m\u001b[1mwandb\u001b[0m:     Validation loss ▁\n",
            "\u001b[34m\u001b[1mwandb\u001b[0m:               round ▁\n",
            "\u001b[34m\u001b[1mwandb\u001b[0m: \n",
            "\u001b[34m\u001b[1mwandb\u001b[0m: Run summary:\n",
            "\u001b[34m\u001b[1mwandb\u001b[0m:       Test accuracy 10.001\n",
            "\u001b[34m\u001b[1mwandb\u001b[0m:           Test loss 2.91145\n",
            "\u001b[34m\u001b[1mwandb\u001b[0m: Validation accuracy 10.0002\n",
            "\u001b[34m\u001b[1mwandb\u001b[0m:     Validation loss 2.93737\n",
            "\u001b[34m\u001b[1mwandb\u001b[0m:               round 0\n",
            "\u001b[34m\u001b[1mwandb\u001b[0m: \n",
            "\u001b[34m\u001b[1mwandb\u001b[0m: 🚀 View run \u001b[33mcaptain-blood-wine-10\u001b[0m at: \u001b[34m\u001b[4mhttps://wandb.ai/rickymusu/fl_cifar10/runs/n5peliln\u001b[0m\n",
            "\u001b[34m\u001b[1mwandb\u001b[0m: Synced 5 W&B file(s), 0 media file(s), 2 artifact file(s) and 0 other file(s)\n",
            "\u001b[34m\u001b[1mwandb\u001b[0m: Find logs at: \u001b[35m\u001b[1m./wandb/run-20230405_131210-n5peliln/logs\u001b[0m\n",
            "Done\n",
            "Alpha 0.05\n",
            "############################################## Running FedAvg ##############################################\n",
            "Alpha: alpha_0.05\n",
            "Using device: Tesla T4\n",
            "\u001b[34m\u001b[1mwandb\u001b[0m: Currently logged in as: \u001b[33mrickymusu\u001b[0m. Use \u001b[1m`wandb login --relogin`\u001b[0m to force relogin\n",
            "\u001b[34m\u001b[1mwandb\u001b[0m: Tracking run with wandb version 0.14.0\n",
            "\u001b[34m\u001b[1mwandb\u001b[0m: Run data is saved locally in \u001b[35m\u001b[1m/content/fedsam/models/wandb/run-20230405_131413-nmbm38d3\u001b[0m\n",
            "\u001b[34m\u001b[1mwandb\u001b[0m: Run \u001b[1m`wandb offline`\u001b[0m to turn off syncing.\n",
            "\u001b[34m\u001b[1mwandb\u001b[0m: Syncing run \u001b[33mxindi-phaser-11\u001b[0m\n",
            "\u001b[34m\u001b[1mwandb\u001b[0m: ⭐️ View project at \u001b[34m\u001b[4mhttps://wandb.ai/rickymusu/fl_cifar10\u001b[0m\n",
            "\u001b[34m\u001b[1mwandb\u001b[0m: 🚀 View run at \u001b[34m\u001b[4mhttps://wandb.ai/rickymusu/fl_cifar10/runs/nmbm38d3\u001b[0m\n",
            "\u001b[34m\u001b[1mwandb\u001b[0m: \u001b[33mWARNING\u001b[0m Calling wandb.run.save without any arguments is deprecated.Changes to attributes are automatically persisted.\n",
            "############################## cifar10.resnet20gn ##############################\n",
            "Running experiment with server servers.fedopt_server and client clients.client\n",
            "Verify client and server: <class 'clients.client.Client'> <class 'servers.fedopt_server.FedOptServer'>\n",
            "Server optimizer: sgd with lr 1.0 and momentum 0\n",
            "Start round: 0\n",
            "/usr/local/lib/python3.9/dist-packages/torch/utils/data/dataloader.py:561: UserWarning: This DataLoader will create 4 worker processes in total. Our suggested max number of worker in current system is 2, which is smaller than what this DataLoader is going to create. Please be aware that excessive worker creation might get DataLoader running slow or even freeze, lower the worker number to avoid potential slowness/freeze if necessary.\n",
            "  warnings.warn(_create_warning_msg(\n",
            "Clients in Total: 100 training clients and 1 test clients\n",
            "--- Random Initialization ---\n",
            "train_accuracy: 10.0002, 10th percentile: 0, 50th percentile: 0, 90th percentile 21.94\n",
            "train_loss: 2.93713, 10th percentile: 1.442, 50th percentile: 3.06305, 90th percentile 3.75219\n",
            "test_accuracy: 10.001, 10th percentile: 10.001, 50th percentile: 10.001, 90th percentile 10.001\n",
            "test_loss: 2.91145, 10th percentile: 2.91145, 50th percentile: 2.91145, 90th percentile 2.91145\n",
            "--- Round 1 of 10000: Training 5 Clients ---\n",
            "Selected clients: ['32', '87', '10', '59', '77']\n",
            "Traceback (most recent call last):\n",
            "  File \"/content/fedsam/models/main.py\", line 381, in <module>\n",
            "    main()\n",
            "  File \"/content/fedsam/models/main.py\", line 170, in main\n",
            "    sys_metrics = server.train_model(num_epochs=args.num_epochs, batch_size=args.batch_size,\n",
            "  File \"/content/fedsam/models/servers/fedopt_server.py\", line 21, in train_model\n",
            "    sys_metrics = super(FedOptServer, self).train_model(num_epochs, batch_size, minibatch, clients, analysis)\n",
            "  File \"/content/fedsam/models/servers/fedavg_server.py\", line 78, in train_model\n",
            "    sys_metrics = self._update_sys_metrics(c, sys_metrics)\n",
            "  File \"/content/fedsam/models/servers/fedavg_server.py\", line 88, in _update_sys_metrics\n",
            "    sys_metrics[c.id][BYTES_READ_KEY] += c.model.size\n",
            "  File \"/usr/local/lib/python3.9/dist-packages/torch/nn/modules/module.py\", line 1614, in __getattr__\n",
            "    raise AttributeError(\"'{}' object has no attribute '{}'\".format(\n",
            "AttributeError: 'ClientModel' object has no attribute 'size'\n",
            "\u001b[34m\u001b[1mwandb\u001b[0m: Waiting for W&B process to finish... \u001b[31m(failed 1).\u001b[0m Press Control-C to abort syncing.\n",
            "\u001b[34m\u001b[1mwandb\u001b[0m: \n",
            "\u001b[34m\u001b[1mwandb\u001b[0m: Run history:\n",
            "\u001b[34m\u001b[1mwandb\u001b[0m:       Test accuracy ▁\n",
            "\u001b[34m\u001b[1mwandb\u001b[0m:           Test loss ▁\n",
            "\u001b[34m\u001b[1mwandb\u001b[0m: Validation accuracy ▁\n",
            "\u001b[34m\u001b[1mwandb\u001b[0m:     Validation loss ▁\n",
            "\u001b[34m\u001b[1mwandb\u001b[0m:               round ▁\n",
            "\u001b[34m\u001b[1mwandb\u001b[0m: \n",
            "\u001b[34m\u001b[1mwandb\u001b[0m: Run summary:\n",
            "\u001b[34m\u001b[1mwandb\u001b[0m:       Test accuracy 10.001\n",
            "\u001b[34m\u001b[1mwandb\u001b[0m:           Test loss 2.91145\n",
            "\u001b[34m\u001b[1mwandb\u001b[0m: Validation accuracy 10.0002\n",
            "\u001b[34m\u001b[1mwandb\u001b[0m:     Validation loss 2.93713\n",
            "\u001b[34m\u001b[1mwandb\u001b[0m:               round 0\n",
            "\u001b[34m\u001b[1mwandb\u001b[0m: \n",
            "\u001b[34m\u001b[1mwandb\u001b[0m: 🚀 View run \u001b[33mxindi-phaser-11\u001b[0m at: \u001b[34m\u001b[4mhttps://wandb.ai/rickymusu/fl_cifar10/runs/nmbm38d3\u001b[0m\n",
            "\u001b[34m\u001b[1mwandb\u001b[0m: Synced 5 W&B file(s), 0 media file(s), 0 artifact file(s) and 0 other file(s)\n",
            "\u001b[34m\u001b[1mwandb\u001b[0m: Find logs at: \u001b[35m\u001b[1m./wandb/run-20230405_131413-nmbm38d3/logs\u001b[0m\n",
            "Done\n"
          ]
        }
      ]
    }
  ]
}